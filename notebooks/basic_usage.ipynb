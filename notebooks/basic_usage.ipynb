{
 "cells": [
  {
   "cell_type": "markdown",
   "metadata": {},
   "source": [
    "# Basic usage"
   ]
  },
  {
   "cell_type": "code",
   "execution_count": 1,
   "metadata": {},
   "outputs": [],
   "source": [
    "% add the relevant functions from the source and library folder\n",
    "addpath(genpath(fullfile(pwd, '..', 'src')))\n",
    "addpath(genpath(fullfile(pwd, '..', 'lib')))"
   ]
  },
  {
   "cell_type": "markdown",
   "metadata": {},
   "source": [
    "## Setting the parameters about our experiment\n",
    "\n",
    "We need to define the configuration structure where we put the information about the experiment."
   ]
  },
  {
   "cell_type": "code",
   "execution_count": 2,
   "metadata": {},
   "outputs": [],
   "source": [
    "% define the folder where the data will be saved\n",
    "cfg.dir.output = fullfile(pwd, 'output');\n",
    "\n",
    "cfg.verbose = 1;\n",
    "\n",
    "% define the name of the task\n",
    "cfg.task.name = 'test task';\n",
    "\n",
    "% We can use the userInputs function to collect subject info: this won't work in a jupyter notebook though\n",
    "% cfg = userInputs;\n",
    "\n",
    "% so we can add those information manually directly\n",
    "cfg.subject.subjectNb = 1;\n",
    "cfg.subject.runNb = 1;\n",
    "\n",
    "% if set to 'mri' then the data will be saved in the `func` folder\n",
    "cfg.testingDevice = 'mri';"
   ]
  },
  {
   "cell_type": "markdown",
   "metadata": {},
   "source": [
    "By default we assume you are running a purely behavioral experiment with no eyetracker.\n",
    "\n",
    "```\n",
    "cfg.eyeTracker = false;\n",
    "cfg.testingDevice = 'pc';\n",
    "```\n",
    "\n",
    "If the testing device is set to `pc` then the data will be saved in the `beh` folder\n",
    "\n",
    "If set to `eeg` then the data will be saved in the `eeg` folder\n",
    "\n",
    "```\n",
    "cfg.testingDevice = 'eeg';\n",
    "```"
   ]
  },
  {
   "cell_type": "code",
   "execution_count": 3,
   "metadata": {},
   "outputs": [
    {
     "name": "stdout",
     "output_type": "stream",
     "text": [
      "\r\n",
      "\r\n",
      "___________________________________________________\r\n",
      "___________________________________________________\r\n",
      "                                                   \r\n",
      "         ___ ___ ___   ___ ___ ___  ___            \r\n",
      "        / __| _ \\ _ \\ | _ )_ _|   \\/ __|\r\n",
      "       | (__|  _/  _/ | _ \\| || |) \\__ \\\r\n",
      "        \\___|_| |_|   |___/___|___/|___/\r\n",
      "                                                   \r\n",
      "Thank you for using the CPP BIDS - version v1.0.0. \r\n",
      "\r\n",
      "Current list of contributors includes:\r\n",
      " Rémi Gau\r\n",
      " Marco Barilari\r\n",
      " Ceren Battal\r\n",
      " Tomas Lenc\r\n",
      "\b\r\n",
      "\r\n",
      "Please cite using the following DOI: \r\n",
      " https://doi.org/10.5281/zenodo.4007674\r\n",
      "\r\n",
      "For bug report, suggestions or contributions see: \r\n",
      " https://github.com/cpp-lln-lab/CPP_BIDS\r\n",
      "\r\n",
      "___________________________________________________\r\n",
      "___________________________________________________\r\n",
      "\r\n",
      "\r\n"
     ]
    }
   ],
   "source": [
    "% We can then initialize all the other fields. The ones we have already filled in will not be overwritten\n",
    "cfg = checkCFG(cfg);"
   ]
  },
  {
   "cell_type": "markdown",
   "metadata": {},
   "source": [
    "## Creating BIDS paths and filenames"
   ]
  },
  {
   "cell_type": "code",
   "execution_count": 4,
   "metadata": {},
   "outputs": [],
   "source": [
    "% create the filenames: this include a step to check that all the information is there: createFilename calls \n",
    "% checkCFG before running\n",
    "cfg = createFilename(cfg);"
   ]
  },
  {
   "cell_type": "markdown",
   "metadata": {},
   "source": [
    "### Output directory for this subject\n",
    "\n",
    "Everything is put in a `source` folder to distinguish it from the `raw` that is usually reserved for the final 'true' BIDS data.\n",
    "\n",
    "You can see that even though it was not specified a session folder and label is added to the folder structure and the filename."
   ]
  },
  {
   "cell_type": "code",
   "execution_count": 5,
   "metadata": {
    "scrolled": false
   },
   "outputs": [
    {
     "name": "stdout",
     "output_type": "stream",
     "text": [
      "/home/remi/github/CPP_BIDS/notebooks/output/source/sub-001/ses-001\r\n"
     ]
    }
   ],
   "source": [
    "disp(cfg.dir.outputSubject)"
   ]
  },
  {
   "cell_type": "markdown",
   "metadata": {},
   "source": [
    "### filename for events.tsv files\n",
    "\n",
    "You will note that we are converting the name of the task to a `camelCase`.\n",
    "\n",
    "`test task` --> `testTask`"
   ]
  },
  {
   "cell_type": "code",
   "execution_count": 6,
   "metadata": {},
   "outputs": [
    {
     "name": "stdout",
     "output_type": "stream",
     "text": [
      "sub-001_ses-001_task-testTask_run-001_events_date-202011171229.tsv\r\n"
     ]
    }
   ],
   "source": [
    "disp(cfg.fileName.events)"
   ]
  },
  {
   "cell_type": "markdown",
   "metadata": {},
   "source": [
    "The fullpath for this file would be:"
   ]
  },
  {
   "cell_type": "code",
   "execution_count": 7,
   "metadata": {},
   "outputs": [
    {
     "name": "stdout",
     "output_type": "stream",
     "text": [
      "/home/remi/github/CPP_BIDS/notebooks/output/source/sub-001/ses-001/func/sub-001_ses-001_task-testTask_run-001_events_date-202011171229.tsv\r\n"
     ]
    }
   ],
   "source": [
    "disp(fullfile(...\n",
    "    cfg.dir.outputSubject, ...\n",
    "    cfg.fileName.modality, ...\n",
    "    cfg.fileName.events))"
   ]
  },
  {
   "cell_type": "markdown",
   "metadata": {},
   "source": [
    "## Saving data to tsv file"
   ]
  },
  {
   "cell_type": "markdown",
   "metadata": {},
   "source": [
    "### Setting things up"
   ]
  },
  {
   "cell_type": "code",
   "execution_count": 8,
   "metadata": {},
   "outputs": [],
   "source": [
    "clear cfg logFile\n",
    "\n",
    "cfg.dir.output = fullfile(pwd, 'output');\n",
    "\n",
    "cfg.verbose = 0;\n",
    "\n",
    "cfg.task.name = 'test task';\n",
    "\n",
    "cfg.subject.subjectNb = 1;\n",
    "cfg.subject.runNb = 1;\n",
    "\n",
    "cfg.testingDevice = 'mri';\n",
    "\n",
    "% Create the filenames\n",
    "[cfg] = createFilename(cfg);\n",
    "\n",
    "% We can define what extra columns we want in our tsv file beyond the \n",
    "% BIDS \"holy trinity\" ('onset', 'duration', 'trial_type')\n",
    "\n",
    "% Say we want to keep track of the type of target that what presented during a trial and of its position\n",
    "logFile.extraColumns = {'target_position', 'target_type'};\n"
   ]
  },
  {
   "cell_type": "markdown",
   "metadata": {},
   "source": [
    "### Preparing your data dictionary\n",
    "\n",
    "We can then initialize our logfile."
   ]
  },
  {
   "cell_type": "code",
   "execution_count": 9,
   "metadata": {},
   "outputs": [],
   "source": [
    "logFile = saveEventsFile('init', cfg, logFile);"
   ]
  },
  {
   "cell_type": "markdown",
   "metadata": {},
   "source": [
    "This will initialize a structure for each extra column.\n"
   ]
  },
  {
   "cell_type": "code",
   "execution_count": 10,
   "metadata": {
    "scrolled": false
   },
   "outputs": [
    {
     "name": "stdout",
     "output_type": "stream",
     "text": [
      "\r\n",
      "  scalar structure containing the fields:\r\n",
      "\r\n",
      "    Description = \r\n",
      "    Levels = \r\n",
      "    LongName = \r\n",
      "    TermURL = \r\n",
      "    Units = \r\n"
     ]
    }
   ],
   "source": [
    "disp(logFile.extraColumns.target_position.bids)"
   ]
  },
  {
   "cell_type": "markdown",
   "metadata": {},
   "source": [
    "You can then add information about each extraccolumns so they are saved in the JSON data dictionary that will go with the `.tsv` file."
   ]
  },
  {
   "cell_type": "code",
   "execution_count": 11,
   "metadata": {},
   "outputs": [
    {
     "name": "stdout",
     "output_type": "stream",
     "text": [
      "\r\n",
      "  scalar structure containing the fields:\r\n",
      "\r\n",
      "    Description = Position of the target on the screen\r\n",
      "    Levels = \r\n",
      "    {\r\n",
      "      [1,1] = left\r\n",
      "      [1,2] = center\r\n",
      "      [1,3] = right\r\n",
      "    }\r\n",
      "    LongName = \r\n",
      "    TermURL = \r\n",
      "    Units = \r\n"
     ]
    }
   ],
   "source": [
    "logFile.extraColumns.target_position.bids.Description = 'Position of the target on the screen';\n",
    "logFile.extraColumns.target_position.bids.Levels = {'left', 'center', 'right'};\n",
    "\n",
    "disp(logFile.extraColumns.target_position.bids)"
   ]
  },
  {
   "cell_type": "markdown",
   "metadata": {},
   "source": [
    "### Adding data during the experiment\n",
    "\n",
    "A couple of things to do before you start the main loop of your experiment."
   ]
  },
  {
   "cell_type": "code",
   "execution_count": 12,
   "metadata": {},
   "outputs": [
    {
     "name": "stdout",
     "output_type": "stream",
     "text": [
      "onset\tduration\ttrial_type\ttarget_position\ttarget_type\r\n"
     ]
    }
   ],
   "source": [
    "% create the output directory\n",
    "mkdir(fullfile(cfg.dir.outputSubject, cfg.fileName.modality));\n",
    "% open the file\n",
    "logFile = saveEventsFile('open', cfg, logFile);\n",
    "\n",
    "% This prints the header of the tsv file.\n"
   ]
  },
  {
   "cell_type": "markdown",
   "metadata": {},
   "source": [
    "Calling `tree` from the linux command line to see that we got what we want"
   ]
  },
  {
   "cell_type": "code",
   "execution_count": 13,
   "metadata": {
    "scrolled": true
   },
   "outputs": [
    {
     "name": "stdout",
     "output_type": "stream",
     "text": [
      "\u001b[01;34m.\u001b[00m\r\n",
      "├── basic_usage.ipynb\r\n",
      "├── creating_BIDS_dataset.ipynb\r\n",
      "├── more_on_saving.ipynb\r\n",
      "├── \u001b[01;34moutput\u001b[00m\r\n",
      "│   └── \u001b[01;34msource\u001b[00m\r\n",
      "│       └── \u001b[01;34msub-001\u001b[00m\r\n",
      "│           └── \u001b[01;34mses-001\u001b[00m\r\n",
      "│               └── \u001b[01;34mfunc\u001b[00m\r\n",
      "│                   ├── sub-001_ses-001_task-testTask_run-001_events_date-202011171229.json\r\n",
      "│                   └── sub-001_ses-001_task-testTask_run-001_events_date-202011171229.tsv\r\n",
      "├── README.md\r\n",
      "└── using_2_logfiles.ipynb\r\n",
      "\r\n",
      "5 directories, 7 files\r\n",
      "\n"
     ]
    }
   ],
   "source": [
    "!tree"
   ]
  },
  {
   "cell_type": "markdown",
   "metadata": {},
   "source": [
    "2 things to note.\n",
    "\n",
    "- A `_date-YYYYMMDDHHMM` suffix is appended to the file name. This is NOT accepted by the BIDS filenaming convention. This was introduced to prevent overwriting files by mistake in case some things were re-run. When you convert the source data into raw data, this date suffix should be removed (the `removeDataSuffix` is there for that).\n",
    "\n",
    "- A json file that stores your data dictionary was created.\n",
    "\n",
    "Let's inspect its content."
   ]
  },
  {
   "cell_type": "code",
   "execution_count": 14,
   "metadata": {},
   "outputs": [
    {
     "name": "stdout",
     "output_type": "stream",
     "text": [
      "{\r\n",
      "    \"onset\": {\r\n",
      "        \"Description\": \"time elapsed since experiment start\",\r\n",
      "        \"Units\": \"s\"\r\n",
      "    },\r\n",
      "    \"trial_type\": {\r\n",
      "        \"Description\": \"types of trial\",\r\n",
      "        \"Levels\": \"\"\r\n",
      "    },\r\n",
      "    \"duration\": {\r\n",
      "        \"Description\": \"duration of the event or the block\",\r\n",
      "        \"Units\": \"s\"\r\n",
      "    },\r\n",
      "    \"target_position\": {\r\n",
      "        \"Description\": \"Position of the target on the screen\",\r\n",
      "        \"Levels\": [\r\n",
      "            \"left\",\r\n",
      "            \"center\",\r\n",
      "            \"right\"\r\n",
      "        ],\r\n",
      "        \"LongName\": \"\",\r\n",
      "        \"TermURL\": \"\",\r\n",
      "        \"Units\": \"\"\r\n",
      "    },\r\n",
      "    \"target_type\": {\r\n",
      "        \"Description\": \"\",\r\n",
      "        \"Levels\": \"\",\r\n",
      "        \"LongName\": \"\",\r\n",
      "        \"TermURL\": \"\",\r\n",
      "        \"Units\": \"\"\r\n",
      "    }\r\n",
      "}\n"
     ]
    }
   ],
   "source": [
    "!cat output/source/sub-001/ses-001/func/sub-001_ses-001_task-testTask_run-001_events_date-*.json"
   ]
  },
  {
   "cell_type": "code",
   "execution_count": 15,
   "metadata": {},
   "outputs": [
    {
     "name": "stdout",
     "output_type": "stream",
     "text": [
      "ans =  2\r\n",
      "ans =  1\r\n",
      "\r\n",
      "ans =  6\r\n",
      "ans =  1.2000\r\n",
      "\r\n"
     ]
    }
   ],
   "source": [
    "% The information about 2 events that we want to save\n",
    "% NOTE : If the user DOES NOT provide `onset`, `duration`, this events will be skipped.\n",
    "\n",
    "% Trial one\n",
    "logFile(1,1).onset = 2;\n",
    "logFile(1,1).trial_type = 'motion_up';\n",
    "logFile(1,1).duration = 1;\n",
    "logFile(1,1).target_position = 'left';\n",
    "logFile(1,1).target_type = 'audio';\n",
    "\n",
    "% Trial two\n",
    "logFile(2,1).onset = 6;\n",
    "logFile(2,1).trial_type = 'static';\n",
    "logFile(2,1).duration = 1.2;\n",
    "logFile(2,1).target_position = 'right';\n",
    "logFile(2,1).target_type = 'visual';\n",
    "\n",
    "% add those 2 events to the events.tsv file\n",
    "\n",
    "logFile = saveEventsFile('save', cfg, logFile);\n"
   ]
  },
  {
   "cell_type": "markdown",
   "metadata": {},
   "source": [
    "The content of the `logfile` structure is emptied after every save so saving again will only throw a warning."
   ]
  },
  {
   "cell_type": "code",
   "execution_count": 16,
   "metadata": {},
   "outputs": [
    {
     "name": "stdout",
     "output_type": "stream",
     "text": [
      "warning: Skipping saving this event. \r\n",
      " onset: NaN \r\n",
      " duration: NaN \r\n"
     ]
    }
   ],
   "source": [
    "logFile = saveEventsFile('save', cfg, logFile);"
   ]
  },
  {
   "cell_type": "markdown",
   "metadata": {},
   "source": [
    "Any missing information will be replaced by `n/a`.\n",
    "\n",
    "And will throw a warning. They can be quite verbose on octave."
   ]
  },
  {
   "cell_type": "code",
   "execution_count": 17,
   "metadata": {},
   "outputs": [
    {
     "name": "stdout",
     "output_type": "stream",
     "text": [
      "warning: Missing some target_position data for this event.\r\n",
      "warning: called from\r\n",
      "    saveEventsFile>checkExtracolumns at line 288 column 13\r\n",
      "    saveEventsFile>checklLogFile at line 173 column 21\r\n",
      "    saveEventsFile>saveToLogFile at line 351 column 17\r\n",
      "    saveEventsFile at line 123 column 21\r\n",
      "ans =  10\r\n",
      "ans =  1\r\n",
      "\r\n"
     ]
    }
   ],
   "source": [
    "% New trial\n",
    "logFile(1,1).onset = 10;\n",
    "logFile(1,1).trial_type = 'motion_down';\n",
    "logFile(1,1).duration = 1;\n",
    "logFile(1,1).target_position = [];\n",
    "logFile(1,1).target_type = 'audio';\n",
    "\n",
    "logFile = saveEventsFile('save', cfg, logFile);"
   ]
  },
  {
   "cell_type": "markdown",
   "metadata": {},
   "source": [
    "You can then close the file."
   ]
  },
  {
   "cell_type": "code",
   "execution_count": 18,
   "metadata": {},
   "outputs": [],
   "source": [
    "% close the file\n",
    "saveEventsFile('close', cfg, logFile);"
   ]
  },
  {
   "cell_type": "markdown",
   "metadata": {},
   "source": [
    "### Inspecting the output\n",
    "\n",
    "The `bids-matlab` toolbox comes as part of CPP_BIDS as a submodule so you can easily load the content of this tsv file."
   ]
  },
  {
   "cell_type": "code",
   "execution_count": 19,
   "metadata": {},
   "outputs": [
    {
     "name": "stdout",
     "output_type": "stream",
     "text": [
      "output =\r\n",
      "\r\n",
      "  scalar structure containing the fields:\r\n",
      "\r\n",
      "    onset =\r\n",
      "\r\n",
      "        2\r\n",
      "        6\r\n",
      "       10\r\n",
      "\r\n",
      "    duration =\r\n",
      "\r\n",
      "       1.0000\r\n",
      "       1.2000\r\n",
      "       1.0000\r\n",
      "\r\n",
      "    trial_type = \r\n",
      "    {\r\n",
      "      [1,1] = motion_up\r\n",
      "      [2,1] = static\r\n",
      "      [3,1] = motion_down\r\n",
      "    }\r\n",
      "    target_position = \r\n",
      "    {\r\n",
      "      [1,1] = left\r\n",
      "      [2,1] = right\r\n",
      "      [3,1] = n/a\r\n",
      "    }\r\n",
      "    target_type = \r\n",
      "    {\r\n",
      "      [1,1] = audio\r\n",
      "      [2,1] = visual\r\n",
      "      [3,1] = audio\r\n",
      "    }\r\n",
      "\r\n"
     ]
    }
   ],
   "source": [
    "output = bids.util.tsvread( ...\n",
    "    fullfile(...\n",
    "    cfg.dir.outputSubject, ...\n",
    "    cfg.fileName.modality, ...\n",
    "    cfg.fileName.events))"
   ]
  }
 ],
 "metadata": {
  "kernelspec": {
   "display_name": "Octave",
   "language": "octave",
   "name": "octave"
  },
  "language_info": {
   "file_extension": ".m",
   "help_links": [
    {
     "text": "GNU Octave",
     "url": "https://www.gnu.org/software/octave/support.html"
    },
    {
     "text": "Octave Kernel",
     "url": "https://github.com/Calysto/octave_kernel"
    },
    {
     "text": "MetaKernel Magics",
     "url": "https://metakernel.readthedocs.io/en/latest/source/README.html"
    }
   ],
   "mimetype": "text/x-octave",
   "name": "octave",
   "version": "4.2.2"
  }
 },
 "nbformat": 4,
 "nbformat_minor": 4
}
