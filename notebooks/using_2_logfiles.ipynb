{
 "cells": [
  {
   "cell_type": "markdown",
   "metadata": {},
   "source": [
    "# saving two `_events.tsv` for the same run\n",
    "\n",
    "This won't create BIDS valid output but this might help you organize some of your output in different TSV files.\n",
    "\n"
   ]
  },
  {
   "cell_type": "code",
   "execution_count": 1,
   "metadata": {},
   "outputs": [],
   "source": [
    "% add the relevant functions from the src folder\n",
    "addpath(genpath(fullfile(pwd, '..', 'src')));\n",
    "\n",
    "cfg.dir.output = fullfile(pwd, 'output');\n",
    "\n",
    "cfg.task.name = 'test task';\n",
    "\n",
    "cfg.subject.subjectNb = 1;\n",
    "cfg.subject.runNb = 1;\n",
    "\n",
    "cfg.testingDevice = 'pc';\n",
    "\n",
    "cfg.verbose = true;"
   ]
  },
  {
   "cell_type": "markdown",
   "metadata": {},
   "source": [
    "## create a first logfile"
   ]
  },
  {
   "cell_type": "code",
   "execution_count": 2,
   "metadata": {
    "scrolled": true
   },
   "outputs": [
    {
     "name": "stdout",
     "output_type": "stream",
     "text": [
      "\r\n",
      "Data will be saved in this directory:\r\n",
      "\t/home/remi/github/CPP_BIDS/notebooks/output/source/sub-001/ses-001/beh\r\n",
      "\r\n",
      "Data will be saved in this file:\r\n",
      "\tsub-001_ses-001_task-testTask_run-001_events_date-202010191603.tsv\r\n"
     ]
    }
   ],
   "source": [
    "[cfg] = createFilename(cfg);\n",
    "logFile.extraColumns = {'target_position', 'target_type'};"
   ]
  },
  {
   "cell_type": "code",
   "execution_count": 3,
   "metadata": {},
   "outputs": [
    {
     "name": "stdout",
     "output_type": "stream",
     "text": [
      "onset\tduration\ttrial_type\ttarget_position\ttarget_type\r\n"
     ]
    }
   ],
   "source": [
    "logFile = saveEventsFile('open', cfg, logFile);"
   ]
  },
  {
   "cell_type": "markdown",
   "metadata": {},
   "source": [
    "## create a second logfile"
   ]
  },
  {
   "cell_type": "code",
   "execution_count": 4,
   "metadata": {},
   "outputs": [
    {
     "name": "stdout",
     "output_type": "stream",
     "text": [
      "\r\n",
      "Data will be saved in this directory:\r\n",
      "\t/home/remi/github/CPP_BIDS/notebooks/output/source/sub-001/ses-001/beh\r\n",
      "\r\n",
      "Data will be saved in this file:\r\n",
      "\tsub-001_ses-001_task-testTask_acq-extraInfo_run-001_events_date-202010191603.tsv\r\n"
     ]
    }
   ],
   "source": [
    "% we use a copy of the configuration and we modify the 'acq' field in the BIDS naming convention\n",
    "cfg_2 = cfg;\n",
    "cfg_2.suffix.acquisition = 'extraInfo';\n",
    "\n",
    "[cfg_2] = createFilename(cfg_2);\n",
    "logFile_2.extraColumns = {'target_color'};"
   ]
  },
  {
   "cell_type": "code",
   "execution_count": 5,
   "metadata": {},
   "outputs": [
    {
     "name": "stdout",
     "output_type": "stream",
     "text": [
      "onset\tduration\ttrial_type\ttarget_color\r\n"
     ]
    }
   ],
   "source": [
    "logFile_2 = saveEventsFile('open', cfg_2, logFile_2);\n",
    "clear cfg2 % we don't need it anymore as this was only need to create the new filename"
   ]
  },
  {
   "cell_type": "markdown",
   "metadata": {},
   "source": [
    "## log file into the 2 different files"
   ]
  },
  {
   "cell_type": "code",
   "execution_count": 6,
   "metadata": {
    "scrolled": true
   },
   "outputs": [
    {
     "name": "stdout",
     "output_type": "stream",
     "text": [
      "2.000000\t0.500000\tmotion_up\t2.000000\tvisual\t\n",
      "3.000000\t1.000000\tmotion_down\t1.000000\tvisual\t\n",
      "\n",
      "\n",
      "2.000000\t0.500000\tmotion_up\tred\t\n",
      "3.000000\t1.000000\tmotion_down\tblue\t\n"
     ]
    }
   ],
   "source": [
    "% Trial one\n",
    "logFile(1,1).onset = 2;\n",
    "logFile(1,1).trial_type = 'motion_up';\n",
    "logFile(1,1).duration = 0.5;\n",
    "logFile(1,1).target_position = 2;\n",
    "logFile(1,1).target_type = 'visual';\n",
    "\n",
    "% we do have to repeat some information here for onset, duration, trial type\n",
    "logFile_2(1,1).onset = 2;\n",
    "logFile_2(1,1).trial_type = 'motion_up';\n",
    "logFile_2(1,1).duration = 0.5;\n",
    "logFile_2(1,1).target_color = 'red';\n",
    "\n",
    "% Trial two\n",
    "logFile(2,1).onset = 3;\n",
    "logFile(2,1).trial_type = 'motion_down';\n",
    "logFile(2,1).duration = 1;\n",
    "logFile(2,1).target_position = 1;\n",
    "logFile(2,1).target_type = 'visual';\n",
    "\n",
    "logFile_2(2,1).onset = 3;\n",
    "logFile_2(2,1).trial_type = 'motion_down';\n",
    "logFile_2(2,1).duration = 1;\n",
    "logFile_2(2,1).target_color = 'blue';\n",
    "\n",
    "% save to the tsv file\n",
    "logFile = saveEventsFile('save', cfg, logFile);\n",
    "\n",
    "% skip lines for display\n",
    "fprintf(1, '\\n\\n')\n",
    "\n",
    "logFile_2 = saveEventsFile('save', cfg, logFile_2);"
   ]
  },
  {
   "cell_type": "code",
   "execution_count": 7,
   "metadata": {},
   "outputs": [
    {
     "name": "stdout",
     "output_type": "stream",
     "text": [
      "\n",
      "Data were saved in this file:\n",
      "\n",
      "/home/remi/github/CPP_BIDS/notebooks/output/source/sub-001/ses-001/beh/sub-001_ses-001_task-testTask_run-001_events_date-202010191603.tsv\n",
      "\n",
      "\n",
      "Data were saved in this file:\n",
      "\n",
      "/home/remi/github/CPP_BIDS/notebooks/output/source/sub-001/ses-001/beh/sub-001_ses-001_task-testTask_acq-extraInfo_run-001_events_date-202010191603.tsv\n",
      "\n"
     ]
    }
   ],
   "source": [
    "saveEventsFile('close', cfg, logFile);\n",
    "saveEventsFile('close', cfg, logFile_2);"
   ]
  }
 ],
 "metadata": {
  "kernelspec": {
   "display_name": "Octave",
   "language": "octave",
   "name": "octave"
  },
  "language_info": {
   "file_extension": ".m",
   "help_links": [
    {
     "text": "GNU Octave",
     "url": "https://www.gnu.org/software/octave/support.html"
    },
    {
     "text": "Octave Kernel",
     "url": "https://github.com/Calysto/octave_kernel"
    },
    {
     "text": "MetaKernel Magics",
     "url": "https://metakernel.readthedocs.io/en/latest/source/README.html"
    }
   ],
   "mimetype": "text/x-octave",
   "name": "octave",
   "version": "4.2.2"
  }
 },
 "nbformat": 4,
 "nbformat_minor": 4
}
